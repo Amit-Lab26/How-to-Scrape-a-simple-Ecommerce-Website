{
 "cells": [
  {
   "cell_type": "code",
   "execution_count": 66,
   "id": "3007918d",
   "metadata": {},
   "outputs": [],
   "source": [
    "import requests"
   ]
  },
  {
   "cell_type": "code",
   "execution_count": 67,
   "id": "93da5c65",
   "metadata": {},
   "outputs": [],
   "source": [
    "from bs4 import BeautifulSoup\n",
    "import pandas as pd"
   ]
  },
  {
   "cell_type": "code",
   "execution_count": 68,
   "id": "e63e4cd9",
   "metadata": {},
   "outputs": [],
   "source": [
    "#url='https://books.toscrape.com/catalogue/page-1.html'"
   ]
  },
  {
   "cell_type": "code",
   "execution_count": 69,
   "id": "af22e5b3",
   "metadata": {},
   "outputs": [],
   "source": [
    "#response=requests.get(url)"
   ]
  },
  {
   "cell_type": "code",
   "execution_count": 70,
   "id": "372e90c1",
   "metadata": {},
   "outputs": [],
   "source": [
    "#response"
   ]
  },
  {
   "cell_type": "code",
   "execution_count": 71,
   "id": "8919b92f",
   "metadata": {
    "scrolled": true
   },
   "outputs": [],
   "source": [
    "#response=response.content #(all the contents of the page)"
   ]
  },
  {
   "cell_type": "code",
   "execution_count": 72,
   "id": "07f69aae",
   "metadata": {},
   "outputs": [],
   "source": [
    "#soup=BeautifulSoup(response,'html.parser')"
   ]
  },
  {
   "cell_type": "code",
   "execution_count": 73,
   "id": "f6f2b61c",
   "metadata": {},
   "outputs": [],
   "source": [
    "#ol=soup.find('ol')"
   ]
  },
  {
   "cell_type": "code",
   "execution_count": 74,
   "id": "74180ae8",
   "metadata": {},
   "outputs": [],
   "source": [
    "#articles=ol.find_all('article',class_='product_pod') #find all articles  inside 'ol' tag"
   ]
  },
  {
   "cell_type": "code",
   "execution_count": 75,
   "id": "6ee2c174",
   "metadata": {},
   "outputs": [],
   "source": [
    "books=[]\n",
    "for i in range(1,5):\n",
    "    url=f'https://books.toscrape.com/catalogue/page-{i}.html'\n",
    "    response=requests.get(url)\n",
    "    response=response.content #(all the contents of the page)\n",
    "    soup=BeautifulSoup(response,'html.parser')\n",
    "    ol=soup.find('ol')\n",
    "    articles=ol.find_all('article',class_='product_pod') #find all articles  inside 'ol' tag\n",
    "    for article in articles:\n",
    "        image=article.find('img') #find 'img' tag inside article\n",
    "        title=image.attrs['alt'] #save attrs 'alt' value inside image\n",
    "        star=article.find('p') #save all the p tag from article in star\n",
    "        star=star['class'][1] #save all the class name start from 1st index in star\n",
    "        price=article.find('p',class_='price_color').text\n",
    "        price=float(price[1:])\n",
    "        books.append([title,price,star])"
   ]
  },
  {
   "cell_type": "code",
   "execution_count": 61,
   "id": "d37aac18",
   "metadata": {},
   "outputs": [],
   "source": [
    "df=pd.DataFrame(books, columns=['Title','Price','Star Rating'])"
   ]
  },
  {
   "cell_type": "code",
   "execution_count": 76,
   "id": "cae694fc",
   "metadata": {},
   "outputs": [],
   "source": [
    "df.to_csv('books.csv')"
   ]
  },
  {
   "cell_type": "code",
   "execution_count": null,
   "id": "f06a79ee",
   "metadata": {},
   "outputs": [],
   "source": []
  }
 ],
 "metadata": {
  "kernelspec": {
   "display_name": "Python 3",
   "language": "python",
   "name": "python3"
  },
  "language_info": {
   "codemirror_mode": {
    "name": "ipython",
    "version": 3
   },
   "file_extension": ".py",
   "mimetype": "text/x-python",
   "name": "python",
   "nbconvert_exporter": "python",
   "pygments_lexer": "ipython3",
   "version": "3.8.8"
  }
 },
 "nbformat": 4,
 "nbformat_minor": 5
}
